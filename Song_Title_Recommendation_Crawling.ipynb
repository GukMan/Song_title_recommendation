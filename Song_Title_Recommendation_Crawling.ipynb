{
  "nbformat": 4,
  "nbformat_minor": 0,
  "metadata": {
    "colab": {
      "provenance": []
    },
    "kernelspec": {
      "name": "python3",
      "display_name": "Python 3"
    },
    "language_info": {
      "name": "python"
    }
  },
  "cells": [
    {
      "cell_type": "markdown",
      "source": [
        "# **가사 크롤링**"
      ],
      "metadata": {
        "id": "WEDdVRsrVdtl"
      }
    },
    {
      "cell_type": "markdown",
      "source": [
        "**멜론의 여러 페이지에서 노래 제목, id 가져오기**"
      ],
      "metadata": {
        "id": "V5d6astwVrho"
      }
    },
    {
      "cell_type": "code",
      "execution_count": null,
      "metadata": {
        "id": "6HdPWWPKSt2m"
      },
      "outputs": [],
      "source": [
        "import requests\n",
        "from tqdm import tqdm\n",
        "import time\n",
        "import json\n",
        "import pandas as pd\n",
        "from bs4 import BeautifulSoup\n",
        "import re\n",
        "import time\n",
        "\n",
        "# 노래 제목, Songid LIST 만들기\n",
        "list_title=[]\n",
        "list_song_id=[]\n",
        "\n",
        "\n",
        "# 50곡 0~9999 page\n",
        "# 50 * 10000 = 500000 곡\n",
        "for x in range(700):\n",
        "  url_page = 50 * x + 1\n",
        "  # 발라드 GN0100\n",
        "  # 댄스 GN0200\n",
        "  # 랩/힙합 GN0300\n",
        "  # R&B GN0400\n",
        "  # 인디 GN0500\n",
        "  # 록 메탈 GN0600\n",
        "  # 트로트 GN0700\n",
        "  # 포크 GN0800\n",
        "\n",
        "  gnr='GN0100'\n",
        "\n",
        "  print(x,'page',url_page,'grade')\n",
        "  time.sleep(2)\n",
        "  url = \"https://www.melon.com/genre/song_listPaging.htm?startIndex={}&pageSize=50&gnrCode={}&dtlGnrCode=&orderBy=NEW&steadyYn=N\".format(url_page,gnr)\n",
        "  hdr={\n",
        "  'User-Agent': 'Mozilla/5.0 (Windows NT 10.0; Win64; x64) AppleWebKit/537.36 (KHTML, like Gecko) Chrome/103.0.0.0 Safari/537.36'\n",
        "  ,'Cookie': '__T_=1; PC_PCID=16631563285767874076636; PCID=16631563285767874076636; POC=WP10; wcs_bt=s_f9c4bde066b:1663156864; _T_ANO=D1p5pHkCi4UZgITrzyDhJuyv4/S1yJpEs4DVul2v0su07PV3NtTuvJAvk+kP382/PC230QK2JUhQ8xB+QoSAaUyLzivM4d+nWoVPvi99v6bVTpmSiskNnIEEt/vLLU/gZS+NxNSsW77JcQvZV5ZDlV/t3/aeZeubbSfktjQMItaNe7jLPljHU/bO8owf2gORzxveR5yesGx++scXKrhYbXXdrsOeGblrz7qc6MpL5ytLm5H/PEu9l/kXrDgQzVpYK+RQLtcX3zL2eNbBsA/Xq+Y0Zy5PFCOc6PV6WZPGZFaaqWj9baDPxCsaMg19IOtkVtKBOiM7zDwFG6UfsVkOWQ=='\n",
        "  ,'Referer': 'https://www.melon.com/genre/song_list.htm?gnrCode=GN0100&dtlGnrCode='\n",
        "  }\n",
        "\n",
        "  res = requests.get(url, headers=hdr)\n",
        "  # text 존재함? print\n",
        "  print(res,res.len(res.text),url)\n",
        "\n",
        "  soup = BeautifulSoup(res.text, 'html.parser')\n",
        "  soup.select('tbody tr div.wrap a')[1]\n",
        "  a_tags = soup.select('tbody tr div.wrap a.btn.button_icons')\n",
        "  print(len(a_tags))\n",
        "\n",
        "  for i,v in enumerate(a_tags):\n",
        "    href= a_tags[i]['href']\n",
        "    # song_id 가져오기\n",
        "    song_id = re.sub(r'[^0-9]', '', href)\n",
        "    # title 가져오기\n",
        "    title=a_tags[i]['title'].split('곡정보')[0]\n",
        "    list_title.append(title)\n",
        "    list_song_id.append(song_id)\n",
        "\n",
        "  print(len(list_title),len(list_song_id))\n",
        "  print(list_title[page-1],list_song_id[page-1]) # 1등, 51등, 101등,.."
      ]
    },
    {
      "cell_type": "code",
      "source": [
        "print(len(list_title),len(list_song_id))"
      ],
      "metadata": {
        "id": "eO-j73pJV70H"
      },
      "execution_count": null,
      "outputs": []
    },
    {
      "cell_type": "markdown",
      "source": [
        "노래 제목, song_id list 만들어 주는 함수"
      ],
      "metadata": {
        "id": "pbR6ohi8XKEk"
      }
    },
    {
      "cell_type": "code",
      "source": [
        "import requests\n",
        "from tqdm import tqdm\n",
        "import time\n",
        "import json\n",
        "import pandas as pd\n",
        "from bs4 import BeautifulSoup\n",
        "import re\n",
        "import time\n",
        "\n",
        "def make_title_songid_list(gnr):\n",
        "  list_title=[]\n",
        "  list_song_id=[]\n",
        "\n",
        "  for x in range(700):\n",
        "    url_page = 50 * x + 1\n",
        "    print(x,'page',url_page,'grade')\n",
        "    time.sleep(2)\n",
        "    url = \"https://www.melon.com/genre/song_listPaging.htm?startIndex={}&pageSize=50&gnrCode={}&dtlGnrCode=&orderBy=NEW&steadyYn=N\".format(url_page,gnr)\n",
        "    hdr={\n",
        "    'User-Agent': 'Mozilla/5.0 (Windows NT 10.0; Win64; x64) AppleWebKit/537.36 (KHTML, like Gecko) Chrome/103.0.0.0 Safari/537.36'\n",
        "    ,'Cookie': '__T_=1; PC_PCID=16631563285767874076636; PCID=16631563285767874076636; POC=WP10; wcs_bt=s_f9c4bde066b:1663156864; _T_ANO=D1p5pHkCi4UZgITrzyDhJuyv4/S1yJpEs4DVul2v0su07PV3NtTuvJAvk+kP382/PC230QK2JUhQ8xB+QoSAaUyLzivM4d+nWoVPvi99v6bVTpmSiskNnIEEt/vLLU/gZS+NxNSsW77JcQvZV5ZDlV/t3/aeZeubbSfktjQMItaNe7jLPljHU/bO8owf2gORzxveR5yesGx++scXKrhYbXXdrsOeGblrz7qc6MpL5ytLm5H/PEu9l/kXrDgQzVpYK+RQLtcX3zL2eNbBsA/Xq+Y0Zy5PFCOc6PV6WZPGZFaaqWj9baDPxCsaMg19IOtkVtKBOiM7zDwFG6UfsVkOWQ=='\n",
        "    ,'Referer': 'https://www.melon.com/genre/song_list.htm?gnrCode=GN0100&dtlGnrCode='\n",
        "    }\n",
        "\n",
        "    res = requests.get(url, headers=hdr)\n",
        "    # text 존재함? print\n",
        "    print(res,len(res.text),res.url)\n",
        "\n",
        "    soup = BeautifulSoup(res.text, 'html.parser')\n",
        "    soup.select('tbody tr div.wrap a')[1]\n",
        "    a_tags = soup.select('tbody tr div.wrap a.btn.button_icons')\n",
        "    print(len(a_tags))\n",
        "\n",
        "    for i,v in enumerate(a_tags):\n",
        "      href= a_tags[i]['href']\n",
        "      # song_id 가져오기\n",
        "      song_id = re.sub(r'[^0-9]', '', href)\n",
        "      # title 가져오기\n",
        "      title=a_tags[i]['title'].split('곡정보')[0]\n",
        "      list_title.append(title)\n",
        "      list_song_id.append(song_id)\n",
        "\n",
        "    print(len(list_title),len(list_song_id))\n",
        "    print(list_title[url_page-1],list_song_id[url_page-1]) # 1등, 51등, 101등,..\n",
        "  \n",
        "  import pickle\n",
        "  with open(\"/content/drive/MyDrive/project/NLP_project/크롤링/save/list_title_{}.pkl\".format(len(list_title)),\"wb\") as f:\n",
        "    pickle.dump(list_title, f)\n",
        "  with open(\"/content/drive/MyDrive/project/NLP_project/크롤링/save/list_song_id_{}.pkl\".format(len(list_song_id)),\"wb\") as f:\n",
        "    pickle.dump(list_song_id, f)\n",
        "\n",
        "  return list_title,list_song_id"
      ],
      "metadata": {
        "id": "o1RpvzVhWAIB"
      },
      "execution_count": null,
      "outputs": []
    },
    {
      "cell_type": "code",
      "source": [
        "# 1.노래 제목, song_id list 만들어 주는 함수\n",
        "list_title_1, list_song_id_1 = make_title_songid_list('GN0100') # 1. 발라드 GN0100\n",
        "list_title_2, list_song_id_2 = make_title_songid_list('GN0200') # 2. 댄스 GN0200\n",
        "list_title_3, list_song_id_3 = make_title_songid_list('GN0300') # 3. 랩/힙합 GN0300\n",
        "list_title_4, list_song_id_4 = make_title_songid_list('GN0400') # 4. R&B GN0400\n",
        "list_title_5, list_song_id_5 = make_title_songid_list('GN0500') # 5. 인디 GN0500\n",
        "list_title_6, list_song_id_6 = make_title_songid_list('GN0600') # 6. 록 메탈 GN0600\n",
        "list_title_7, list_song_id_7 = make_title_songid_list('GN0700') # 7. 트로트 GN0700\n",
        "list_title_8, list_song_id_8 = make_title_songid_list('GN0800') # 8. 포크 GN0800   "
      ],
      "metadata": {
        "id": "fJ5EJ8_8XeWO"
      },
      "execution_count": null,
      "outputs": []
    },
    {
      "cell_type": "code",
      "source": [
        "# list -> dic로 만들기\n",
        "dic_title_songid_ver ={}\n",
        "\n",
        "dic_title_songid_ver['list_title_1'] = list_title_1\n",
        "dic_title_songid_ver['list_title_2'] = list_title_2\n",
        "dic_title_songid_ver['list_title_3'] = list_title_3\n",
        "dic_title_songid_ver['list_title_4'] = list_title_4\n",
        "dic_title_songid_ver['list_title_5'] = list_title_5\n",
        "dic_title_songid_ver['list_title_6'] = list_title_6\n",
        "dic_title_songid_ver['list_title_7'] = list_title_7\n",
        "dic_title_songid_ver['list_title_8'] = list_title_8\n",
        "\n",
        "dic_title_songid_ver['list_song_id_1'] = list_song_id_1\n",
        "dic_title_songid_ver['list_song_id_2'] = list_song_id_2\n",
        "dic_title_songid_ver['list_song_id_3'] = list_song_id_3\n",
        "dic_title_songid_ver['list_song_id_4'] = list_song_id_4\n",
        "dic_title_songid_ver['list_song_id_5'] = list_song_id_5\n",
        "dic_title_songid_ver['list_song_id_6'] = list_song_id_6\n",
        "dic_title_songid_ver['list_song_id_7'] = list_song_id_7\n",
        "dic_title_songid_ver['list_song_id_8'] = list_song_id_8\n",
        "\n",
        "# dic pickle 저장\n",
        "import pickle\n",
        "\n",
        "with open(\"/content/drive/MyDrive/project/NLP_project/크롤링/dic_title_songid_ver_{}.pkl\".format(len(dic_title_songid_ver)),\"wb\") as f:\n",
        "    pickle.dump(dic_title_songid_ver, f)\n",
        "\n",
        "# dic -> df 만들기\n",
        "df_title_songid_ver  = pd.DataFrame(dic_title_songid_ver)\n",
        "\n",
        "# df pickle 저장\n",
        "import pickle\n",
        "\n",
        "with open(\"/content/drive/MyDrive/project/NLP_project/크롤링/df_title_songid_ver_{}.pkl\".format(len(df_title_songid_ver)),\"wb\") as f:\n",
        "    pickle.dump(df_title_songid_ver, f)"
      ],
      "metadata": {
        "id": "5F4f2cV6XnJq"
      },
      "execution_count": null,
      "outputs": []
    },
    {
      "cell_type": "code",
      "source": [
        "dic_title_songid ={}\n",
        "\n",
        "list_title =[]\n",
        "list_song_id=[]\n",
        "list_title.extend(list_title_1)\n",
        "list_title.extend(list_title_2)\n",
        "list_title.extend(list_title_3)\n",
        "list_title.extend(list_title_4)\n",
        "list_title.extend(list_title_5)\n",
        "list_title.extend(list_title_6)\n",
        "list_title.extend(list_title_7)\n",
        "list_title.extend(list_title_8)\n",
        "\n",
        "list_song_id.extend(list_song_id_1)\n",
        "list_song_id.extend(list_song_id_2)\n",
        "list_song_id.extend(list_song_id_3)\n",
        "list_song_id.extend(list_song_id_4)\n",
        "list_song_id.extend(list_song_id_5)\n",
        "list_song_id.extend(list_song_id_6)\n",
        "list_song_id.extend(list_song_id_7)\n",
        "list_song_id.extend(list_song_id_8)\n",
        "\n",
        "dic_title_songid['list_title'] = list_title\n",
        "dic_title_songid['list_song_id'] = list_song_id\n",
        "\n",
        "df_title_songid  = pd.DataFrame(dic_title_songid)"
      ],
      "metadata": {
        "id": "0R58UQ-6XoPa"
      },
      "execution_count": null,
      "outputs": []
    },
    {
      "cell_type": "code",
      "source": [
        "df_title_songid"
      ],
      "metadata": {
        "id": "T9udGe_mYFf8"
      },
      "execution_count": null,
      "outputs": []
    },
    {
      "cell_type": "code",
      "source": [
        "# df 중복치 제거\n",
        "df_title_songid.drop_duplicates(['list_title'],inplace=True)\n",
        "df_title_songid.drop_duplicates(['list_song_id'],inplace=True)\n",
        "\n",
        "# df pickle 저장\n",
        "with open(\"/content/drive/MyDrive/project/NLP_project/크롤링/df_dropdup_title_songid_{}.pkl\".format(len(df_title_songid)),\"wb\") as f:\n",
        "    pickle.dump(df_title_songid, f)"
      ],
      "metadata": {
        "id": "f6JRR5PYYF5u"
      },
      "execution_count": null,
      "outputs": []
    },
    {
      "cell_type": "markdown",
      "source": [
        "**노래 페이지에서 가사 가져오기**"
      ],
      "metadata": {
        "id": "lZoHkTIPYSZI"
      }
    },
    {
      "cell_type": "code",
      "source": [
        "# list_song_id => lyrix 가져오기 함수\n",
        "def songid_To_lyris(list_title,list_song_id):\n",
        "  list_lyris=[]\n",
        "  for i,songId in enumerate(list_song_id):\n",
        "    print(i,songId,list_title[i])\n",
        "    # url request\n",
        "    url_gasa = 'https://www.melon.com/song/detail.htm?songId={}'.format(songId)\n",
        "    headers = {\"User-Agent\" : \"Mozilla/5.0 (Windows NT 10.0; Win64; x64) AppleWebKit/537.36 (KHTML, like Gecko) Chrome/103.0.0.0 Safari/537.36}\"}\n",
        "    time.sleep(2)\n",
        "    res = requests.get(url_gasa, headers= headers)\n",
        "    print(res.url)\n",
        "\n",
        "    # soup tags\n",
        "    soup = BeautifulSoup(res.text, 'html.parser')\n",
        "    div_tags = soup.select('div.lyric')\n",
        "    print('가사 유무:',len(div_tags))\n",
        "    if(len(div_tags) == 0 ):\n",
        "      lyris='준비중'\n",
        "    else: \n",
        "      str_div = str(div_tags)\n",
        "      lyris = str_div.split('-->')[1].split('</div')[0]\n",
        "    print('가사:',lyris)\n",
        "    list_lyris.append(lyris)\n",
        "\n",
        "  import pickle\n",
        "  # 혹시 몰라 list pickle 저장\n",
        "  with open(\"/content/drive/MyDrive/project/NLP_project/크롤링/save/list_lyris_{}.pkl\".format(len(list_lyris)),\"wb\") as f:\n",
        "    pickle.dump(list_lyris, f)\n",
        "  return list_lyris"
      ],
      "metadata": {
        "id": "ilp3IoUTYL9J"
      },
      "execution_count": null,
      "outputs": []
    },
    {
      "cell_type": "code",
      "source": [
        "### list_song_id => lyris 가져오기 함수\n",
        "list_lyris  = songid_To_lyris(df_title_songid['list_title'],df_title_songid['list_song_id'])"
      ],
      "metadata": {
        "id": "RfnAuYdIYgIc"
      },
      "execution_count": null,
      "outputs": []
    },
    {
      "cell_type": "code",
      "source": [
        "df_title_songid_lyris = df_title_songid\n",
        "df_title_songid_lyris['list_lyris']=list_lyris\n",
        "print(len(df_title_songid_lyris))"
      ],
      "metadata": {
        "id": "G7CVgA6bYiOd"
      },
      "execution_count": null,
      "outputs": []
    },
    {
      "cell_type": "code",
      "source": [
        "df_title_songid_lyris.to_csv(\"/content/drive/MyDrive/project/NLP_project/크롤링/df_title_songid_lyris_{}.csv\".format(len(df_title_songid_lyris)), encoding='utf-8-sig')"
      ],
      "metadata": {
        "id": "Ihk9QRAlYmep"
      },
      "execution_count": null,
      "outputs": []
    }
  ]
}